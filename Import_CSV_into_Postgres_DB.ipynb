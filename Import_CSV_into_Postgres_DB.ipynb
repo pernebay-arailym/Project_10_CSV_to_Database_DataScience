{
 "cells": [
  {
   "cell_type": "markdown",
   "metadata": {},
   "source": [
    "                        Import CSV files to a postgres database \n",
    "Steps:\n",
    "- import the CSV file into a pandas df\n",
    "- clean the table name and remove all axtra symbols, spaces, capital letters\n",
    "- clean the column headers and remove all axtra symbols, spaces, capital letters\n",
    "- write the create table SQL statement\n",
    "- import the data into the db"
   ]
  },
  {
   "cell_type": "code",
   "execution_count": 101,
   "metadata": {},
   "outputs": [],
   "source": [
    "#import libraries\n",
    "#conda install psycopg2\n",
    "#pip install psycopg2\n",
    "\n",
    "import os\n",
    "import numpy as np \n",
    "import pandas as pd \n",
    "import psycopg2"
   ]
  },
  {
   "cell_type": "code",
   "execution_count": 102,
   "metadata": {},
   "outputs": [
    {
     "name": "stdout",
     "output_type": "stream",
     "text": [
      "Customer Contracts$.csv           customer_contracts.csv\n",
      "Import_CSV_into_Postgres_DB.ipynb\n"
     ]
    }
   ],
   "source": [
    "!ls"
   ]
  },
  {
   "cell_type": "code",
   "execution_count": 103,
   "metadata": {},
   "outputs": [
    {
     "data": {
      "text/html": [
       "<div>\n",
       "<style scoped>\n",
       "    .dataframe tbody tr th:only-of-type {\n",
       "        vertical-align: middle;\n",
       "    }\n",
       "\n",
       "    .dataframe tbody tr th {\n",
       "        vertical-align: top;\n",
       "    }\n",
       "\n",
       "    .dataframe thead th {\n",
       "        text-align: right;\n",
       "    }\n",
       "</style>\n",
       "<table border=\"1\" class=\"dataframe\">\n",
       "  <thead>\n",
       "    <tr style=\"text-align: right;\">\n",
       "      <th></th>\n",
       "      <th>customer_name</th>\n",
       "      <th>start_date</th>\n",
       "      <th>end_date</th>\n",
       "      <th>contract_amount_m</th>\n",
       "      <th>invoice_sent</th>\n",
       "      <th>paid</th>\n",
       "    </tr>\n",
       "  </thead>\n",
       "  <tbody>\n",
       "    <tr>\n",
       "      <th>0</th>\n",
       "      <td>Nike</td>\n",
       "      <td>01-02-2019</td>\n",
       "      <td>12-20-2020</td>\n",
       "      <td>2.98</td>\n",
       "      <td>Yes</td>\n",
       "      <td>Yes</td>\n",
       "    </tr>\n",
       "    <tr>\n",
       "      <th>1</th>\n",
       "      <td>Reebox</td>\n",
       "      <td>06-20-2017</td>\n",
       "      <td>NaN</td>\n",
       "      <td>3.90</td>\n",
       "      <td>No</td>\n",
       "      <td>No</td>\n",
       "    </tr>\n",
       "    <tr>\n",
       "      <th>2</th>\n",
       "      <td>Adidas</td>\n",
       "      <td>12-07-2015</td>\n",
       "      <td>6-20-2018</td>\n",
       "      <td>4.82</td>\n",
       "      <td>Yes</td>\n",
       "      <td>Yes</td>\n",
       "    </tr>\n",
       "    <tr>\n",
       "      <th>3</th>\n",
       "      <td>Google</td>\n",
       "      <td>05-25-2014</td>\n",
       "      <td>03-20-2017</td>\n",
       "      <td>5.74</td>\n",
       "      <td>Yes</td>\n",
       "      <td>No</td>\n",
       "    </tr>\n",
       "    <tr>\n",
       "      <th>4</th>\n",
       "      <td>Amazon</td>\n",
       "      <td>11-10-2012</td>\n",
       "      <td>12-20-2015</td>\n",
       "      <td>6.66</td>\n",
       "      <td>No</td>\n",
       "      <td>Yes</td>\n",
       "    </tr>\n",
       "  </tbody>\n",
       "</table>\n",
       "</div>"
      ],
      "text/plain": [
       "  customer_name  start_date    end_date  contract_amount_m invoice_sent paid\n",
       "0          Nike  01-02-2019  12-20-2020               2.98          Yes  Yes\n",
       "1        Reebox  06-20-2017         NaN               3.90           No   No\n",
       "2        Adidas  12-07-2015   6-20-2018               4.82          Yes  Yes\n",
       "3        Google  05-25-2014  03-20-2017               5.74          Yes   No\n",
       "4        Amazon  11-10-2012  12-20-2015               6.66           No  Yes"
      ]
     },
     "execution_count": 103,
     "metadata": {},
     "output_type": "execute_result"
    }
   ],
   "source": [
    "df = pd.read_csv(\"Customer Contracts$.csv\")\n",
    "df.head()"
   ]
  },
  {
   "cell_type": "code",
   "execution_count": 104,
   "metadata": {},
   "outputs": [
    {
     "data": {
      "text/plain": [
       "'customer_contracts.csv'"
      ]
     },
     "execution_count": 104,
     "metadata": {},
     "output_type": "execute_result"
    }
   ],
   "source": [
    "#clean table names\n",
    "#lower case letters\n",
    "#remove all white spaces and $\n",
    "#replace -,/,\\\\ with _\n",
    "\n",
    "file = (\"Customer Contracts$.csv\")\n",
    "\n",
    "clean_tbl_name = file.lower().replace(\" \",\"_\").replace(\"?\",\"\") \\\n",
    "                            .replace(\"-\",\"_\").replace(r\"/\",\"_\").replace(\"\\\\\",\"_\").replace(\"$\",\"\") \\\n",
    "                            .replace(\")\",\"\").replace(r\"()\",\"\").replace(\"?\",\"\")\n",
    "\n",
    "clean_tbl_name"
   ]
  },
  {
   "cell_type": "code",
   "execution_count": 105,
   "metadata": {},
   "outputs": [],
   "source": [
    "# Save the cleaned DataFrame to a new CSV file\n",
    "clean_tbl_name = \"customer_contracts.csv\"  # Use the cleaned name from your script\n",
    "df.to_csv(clean_tbl_name, index=False)"
   ]
  },
  {
   "cell_type": "code",
   "execution_count": 106,
   "metadata": {},
   "outputs": [
    {
     "data": {
      "text/plain": [
       "Index(['customer_name', 'start_date', 'end_date', 'contract_amount_m',\n",
       "       'invoice_sent', 'paid'],\n",
       "      dtype='object')"
      ]
     },
     "execution_count": 106,
     "metadata": {},
     "output_type": "execute_result"
    }
   ],
   "source": [
    "#clean header names\n",
    "#lower case letters\n",
    "#remove all white spaces and $\n",
    "#replace -,/,\\\\ with _\n",
    "\n",
    "df.columns = [x.lower().replace(\" \",\"_\").replace(\"?\",\"\") \\\n",
    "                            .replace(\"-\",\"_\").replace(r\"/\",\"_\").replace(\"\\\\\",\"_\").replace(\"$\",\"\") \\\n",
    "                            .replace(\")\",\"\").replace(r\"()\",\"\").replace(\"?\",\"\") for x in df.columns]\n",
    "\n",
    "df.columns"
   ]
  },
  {
   "cell_type": "markdown",
   "metadata": {},
   "source": [
    "create table customer_contracts\n",
    "(\n",
    "    customer_name varchar,\n",
    "    start_date varchar,\n",
    "    end_date varchar,\n",
    "    contract_amount_m float,\n",
    "    invoice_sent varchar,\n",
    "    paid varchar\n",
    ");"
   ]
  },
  {
   "cell_type": "code",
   "execution_count": 107,
   "metadata": {},
   "outputs": [
    {
     "data": {
      "text/plain": [
       "customer_name         object\n",
       "start_date            object\n",
       "end_date              object\n",
       "contract_amount_m    float64\n",
       "invoice_sent          object\n",
       "paid                  object\n",
       "dtype: object"
      ]
     },
     "execution_count": 107,
     "metadata": {},
     "output_type": "execute_result"
    }
   ],
   "source": [
    "df.dtypes"
   ]
  },
  {
   "cell_type": "code",
   "execution_count": 108,
   "metadata": {},
   "outputs": [
    {
     "data": {
      "text/plain": [
       "{'object': 'varchar',\n",
       " 'float64': 'float',\n",
       " 'int64': 'int',\n",
       " 'datetime64': 'timestamp',\n",
       " 'timedelta64[ns]': 'varchar'}"
      ]
     },
     "execution_count": 108,
     "metadata": {},
     "output_type": "execute_result"
    }
   ],
   "source": [
    "replacements = {\n",
    "    'object': 'varchar',\n",
    "    'float64': 'float',\n",
    "    'int64': 'int',\n",
    "    'datetime64': 'timestamp',\n",
    "    'timedelta64[ns]': 'varchar'\n",
    "}\n",
    "\n",
    "replacements"
   ]
  },
  {
   "cell_type": "code",
   "execution_count": 109,
   "metadata": {},
   "outputs": [
    {
     "data": {
      "text/plain": [
       "'customer_name varchar, start_date varchar, end_date varchar, contract_amount_m float, invoice_sent varchar, paid varchar'"
      ]
     },
     "execution_count": 109,
     "metadata": {},
     "output_type": "execute_result"
    }
   ],
   "source": [
    "col_str = \", \".join(\"{} {}\".format(n, d) for (n, d) in zip(df.columns, df.dtypes.replace(replacements)))\n",
    "col_str"
   ]
  },
  {
   "cell_type": "code",
   "execution_count": 114,
   "metadata": {},
   "outputs": [
    {
     "name": "stdout",
     "output_type": "stream",
     "text": [
      "Opened local database successfully\n"
     ]
    }
   ],
   "source": [
    "#open a database connection\n",
    "\n",
    "import psycopg2\n",
    "\n",
    "conn_string = (\n",
    "    \"host=localhost \"\n",
    "    \"dbname='csv_to_postgres' \"\n",
    "    \"user='postgres' \"\n",
    "    \"password='postgres'\"\n",
    "    \"port=5432\"\n",
    ")\n",
    "\n",
    "conn = psycopg2.connect(conn_string)\n",
    "cursor = conn.cursor()\n",
    "print('Opened local database successfully')"
   ]
  },
  {
   "cell_type": "code",
   "execution_count": null,
   "metadata": {},
   "outputs": [],
   "source": []
  }
 ],
 "metadata": {
  "kernelspec": {
   "display_name": "base",
   "language": "python",
   "name": "python3"
  },
  "language_info": {
   "codemirror_mode": {
    "name": "ipython",
    "version": 3
   },
   "file_extension": ".py",
   "mimetype": "text/x-python",
   "name": "python",
   "nbconvert_exporter": "python",
   "pygments_lexer": "ipython3",
   "version": "3.11.5"
  }
 },
 "nbformat": 4,
 "nbformat_minor": 2
}
